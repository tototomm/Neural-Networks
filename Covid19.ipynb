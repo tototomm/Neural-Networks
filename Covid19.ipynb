{
 "cells": [
  {
   "cell_type": "code",
   "execution_count": 1,
   "id": "23bcdbe1",
   "metadata": {},
   "outputs": [],
   "source": [
    "import tensorflow as tf\n",
    "\n",
    "gpus = tf.config.experimental.list_physical_devices('GPU')\n",
    "for gpus in gpus:\n",
    "    tf.config.experimental.set_memory_growth(gpu,True)\n",
    "    "
   ]
  },
  {
   "cell_type": "code",
   "execution_count": 2,
   "id": "0d35a5b4",
   "metadata": {},
   "outputs": [
    {
     "name": "stdout",
     "output_type": "stream",
     "text": [
      "Model: \"sequential\"\n",
      "_________________________________________________________________\n",
      " Layer (type)                Output Shape              Param #   \n",
      "=================================================================\n",
      " conv2d (Conv2D)             (None, 224, 224, 32)      896       \n",
      "                                                                 \n",
      " max_pooling2d (MaxPooling2D  (None, 112, 112, 32)     0         \n",
      " )                                                               \n",
      "                                                                 \n",
      " conv2d_1 (Conv2D)           (None, 112, 112, 64)      18496     \n",
      "                                                                 \n",
      " max_pooling2d_1 (MaxPooling  (None, 56, 56, 64)       0         \n",
      " 2D)                                                             \n",
      "                                                                 \n",
      " conv2d_2 (Conv2D)           (None, 56, 56, 64)        36928     \n",
      "                                                                 \n",
      " dropout (Dropout)           (None, 56, 56, 64)        0         \n",
      "                                                                 \n",
      " max_pooling2d_2 (MaxPooling  (None, 28, 28, 64)       0         \n",
      " 2D)                                                             \n",
      "                                                                 \n",
      " conv2d_3 (Conv2D)           (None, 28, 28, 128)       73856     \n",
      "                                                                 \n",
      " dropout_1 (Dropout)         (None, 28, 28, 128)       0         \n",
      "                                                                 \n",
      " max_pooling2d_3 (MaxPooling  (None, 14, 14, 128)      0         \n",
      " 2D)                                                             \n",
      "                                                                 \n",
      " flatten (Flatten)           (None, 25088)             0         \n",
      "                                                                 \n",
      " dense (Dense)               (None, 128)               3211392   \n",
      "                                                                 \n",
      " dense_1 (Dense)             (None, 1)                 129       \n",
      "                                                                 \n",
      "=================================================================\n",
      "Total params: 3,341,697\n",
      "Trainable params: 3,341,697\n",
      "Non-trainable params: 0\n",
      "_________________________________________________________________\n"
     ]
    }
   ],
   "source": [
    "# Importing the Keras libraries and packages\n",
    "\n",
    "# Initialising the CNN\n",
    "classifier = tf.keras.models.Sequential()\n",
    "\n",
    "classifier.add(tf.keras.layers.Convolution2D(filters=32, kernel_size=3, padding=\"same\", input_shape=(224, 224, 3),\n",
    "                                             activation='relu'))\n",
    "\n",
    "classifier.add(tf.keras.layers.MaxPooling2D(pool_size=2, strides=2, padding='valid'))\n",
    "\n",
    "classifier.add(tf.keras.layers.Convolution2D(filters=64, kernel_size=3, padding=\"same\", activation=\"relu\"))\n",
    "classifier.add(tf.keras.layers.MaxPooling2D(pool_size=2, strides=2, padding='valid'))\n",
    "\n",
    "\n",
    "classifier.add(tf.keras.layers.Convolution2D(filters=64, kernel_size=3, padding=\"same\", activation=\"relu\"))\n",
    "classifier.add(tf.keras.layers.Dropout(0.2))\n",
    "classifier.add(tf.keras.layers.MaxPooling2D(pool_size=2, strides=2, padding='valid'))\n",
    "\n",
    "\n",
    "classifier.add(tf.keras.layers.Convolution2D(filters=128, kernel_size=3, padding=\"same\", activation=\"relu\"))\n",
    "classifier.add(tf.keras.layers.Dropout(0.2))\n",
    "classifier.add(tf.keras.layers.MaxPooling2D(pool_size=2, strides=2, padding='valid'))\n",
    "\n",
    "\n",
    "classifier.add(tf.keras.layers.Flatten())\n",
    "\n",
    "classifier.add(tf.keras.layers.Dense(units=128, activation='relu'))\n",
    "classifier.add(tf.keras.layers.Dense(units=1, activation='sigmoid'))\n",
    "\n",
    "classifier.compile(optimizer='adam', loss='binary_crossentropy', metrics=['accuracy'])\n",
    "classifier.summary()\n"
   ]
  },
  {
   "cell_type": "code",
   "execution_count": null,
   "id": "52199e71",
   "metadata": {},
   "outputs": [],
   "source": []
  },
  {
   "cell_type": "code",
   "execution_count": 4,
   "id": "d1eae2a1",
   "metadata": {
    "scrolled": true
   },
   "outputs": [
    {
     "name": "stdout",
     "output_type": "stream",
     "text": [
      "Found 1000 images belonging to 2 classes.\n",
      "Found 200 images belonging to 2 classes.\n"
     ]
    }
   ],
   "source": [
    "path = 'C:/Users/Tommee Ellwyn Saljay/Desktop/Neural Networks/Data'\n",
    "\n",
    "from tensorflow.keras.preprocessing.image import ImageDataGenerator\n",
    "\n",
    "train_datagen = ImageDataGenerator(rescale=1. / 255,\n",
    "                                   shear_range=0.2,\n",
    "                                   zoom_range=0.2,\n",
    "                                   horizontal_flip=True)\n",
    "\n",
    "test_datagen = ImageDataGenerator(rescale=1. / 255)\n",
    "\n",
    "training_set = train_datagen.flow_from_directory(path + '/Train',\n",
    "                                                 target_size=(224,224),\n",
    "                                                 batch_size=32,\n",
    "                                                 class_mode='binary')\n",
    "\n",
    "test_set = test_datagen.flow_from_directory(path + '/Test',\n",
    "                                            target_size=(224,224),\n",
    "                                            batch_size=32,\n",
    "                                            class_mode='binary')\n"
   ]
  },
  {
   "cell_type": "code",
   "execution_count": 5,
   "id": "d5b0e255",
   "metadata": {
    "scrolled": true
   },
   "outputs": [
    {
     "name": "stdout",
     "output_type": "stream",
     "text": [
      "Epoch 1/10\n",
      "4/4 [==============================] - 10s 2s/step - loss: 1.2822 - accuracy: 0.6016 - val_loss: 0.6691 - val_accuracy: 0.4922\n",
      "Epoch 2/10\n",
      "4/4 [==============================] - 8s 2s/step - loss: 0.6397 - accuracy: 0.6797 - val_loss: 0.6152 - val_accuracy: 0.8203\n",
      "Epoch 3/10\n",
      "4/4 [==============================] - 9s 2s/step - loss: 0.5653 - accuracy: 0.7812 - val_loss: 0.5201 - val_accuracy: 0.8047\n",
      "Epoch 4/10\n",
      "4/4 [==============================] - 8s 2s/step - loss: 0.4214 - accuracy: 0.7969 - val_loss: 0.3445 - val_accuracy: 0.8750\n",
      "Epoch 5/10\n",
      "4/4 [==============================] - 8s 2s/step - loss: 0.3391 - accuracy: 0.8281 - val_loss: 0.3091 - val_accuracy: 0.8359\n",
      "Epoch 6/10\n",
      "4/4 [==============================] - 8s 2s/step - loss: 0.7717 - accuracy: 0.7656 - val_loss: 0.3827 - val_accuracy: 0.8438\n",
      "Epoch 7/10\n",
      "4/4 [==============================] - 8s 2s/step - loss: 0.3830 - accuracy: 0.8438 - val_loss: 0.3829 - val_accuracy: 0.8516\n",
      "Epoch 8/10\n",
      "4/4 [==============================] - 8s 2s/step - loss: 0.4094 - accuracy: 0.7812 - val_loss: 0.4075 - val_accuracy: 0.8281\n",
      "Epoch 9/10\n",
      "4/4 [==============================] - 8s 2s/step - loss: 0.4004 - accuracy: 0.8281 - val_loss: 0.4238 - val_accuracy: 0.8203\n",
      "Epoch 10/10\n",
      "4/4 [==============================] - 8s 2s/step - loss: 0.3842 - accuracy: 0.8281 - val_loss: 0.4235 - val_accuracy: 0.8281\n"
     ]
    }
   ],
   "source": [
    "history = classifier.fit(training_set,\n",
    "                         steps_per_epoch=4,\n",
    "                         epochs=10,\n",
    "                         validation_data=test_set,\n",
    "                         validation_steps=4)\n",
    "\n",
    "classifier.save('my_model.h5')"
   ]
  },
  {
   "cell_type": "code",
   "execution_count": 5,
   "id": "01040075",
   "metadata": {},
   "outputs": [
    {
     "name": "stdout",
     "output_type": "stream",
     "text": [
      "79/79 [==============================] - 82s 1s/step - loss: 0.2856 - accuracy: 0.9265\n"
     ]
    },
    {
     "data": {
      "text/plain": [
       "[0.28560543060302734, 0.9265469312667847]"
      ]
     },
     "execution_count": 5,
     "metadata": {},
     "output_type": "execute_result"
    }
   ],
   "source": [
    "loaded_model = tf.keras.models.load_model('my_model.h5')\n",
    "loaded_model.evaluate(test_set)"
   ]
  },
  {
   "cell_type": "code",
   "execution_count": 6,
   "id": "e08e1129",
   "metadata": {},
   "outputs": [
    {
     "data": {
      "text/plain": [
       "{'loss': [1.2822082042694092,\n",
       "  0.6397346258163452,\n",
       "  0.5652913451194763,\n",
       "  0.42144346237182617,\n",
       "  0.33910471200942993,\n",
       "  0.7716507315635681,\n",
       "  0.3829597234725952,\n",
       "  0.4094206392765045,\n",
       "  0.400407075881958,\n",
       "  0.38424497842788696],\n",
       " 'accuracy': [0.6015625,\n",
       "  0.6796875,\n",
       "  0.78125,\n",
       "  0.796875,\n",
       "  0.828125,\n",
       "  0.765625,\n",
       "  0.84375,\n",
       "  0.78125,\n",
       "  0.828125,\n",
       "  0.828125],\n",
       " 'val_loss': [0.6690890192985535,\n",
       "  0.6151655316352844,\n",
       "  0.520141065120697,\n",
       "  0.3445417881011963,\n",
       "  0.3090808093547821,\n",
       "  0.3826739490032196,\n",
       "  0.38288694620132446,\n",
       "  0.4075474143028259,\n",
       "  0.423814058303833,\n",
       "  0.4235357642173767],\n",
       " 'val_accuracy': [0.4921875,\n",
       "  0.8203125,\n",
       "  0.8046875,\n",
       "  0.875,\n",
       "  0.8359375,\n",
       "  0.84375,\n",
       "  0.8515625,\n",
       "  0.828125,\n",
       "  0.8203125,\n",
       "  0.828125]}"
      ]
     },
     "execution_count": 6,
     "metadata": {},
     "output_type": "execute_result"
    }
   ],
   "source": [
    "history.history\n"
   ]
  },
  {
   "cell_type": "code",
   "execution_count": 7,
   "id": "2de81edb",
   "metadata": {},
   "outputs": [
    {
     "data": {
      "image/png": "[encoded data removed]",
      "text/plain": [
       "<Figure size 640x480 with 1 Axes>"
      ]
     },
     "metadata": {},
     "output_type": "display_data"
    },
    {
     "data": {
      "image/png": "[encoded data removed]",
      "text/plain": [
       "<Figure size 640x480 with 1 Axes>"
      ]
     },
     "metadata": {},
     "output_type": "display_data"
    }
   ],
   "source": [
    "#plot accuracy and loss\n",
    "import matplotlib.pyplot as plt\n",
    "\n",
    "plt.plot(history.history['accuracy'])\n",
    "plt.plot(history.history['val_accuracy'])\n",
    "plt.title('model accuracy')\n",
    "plt.ylabel('accuracy')\n",
    "plt.xlabel('epoch')\n",
    "plt.legend(['train', 'test'], loc='upper left')\n",
    "plt.show()\n",
    "\n",
    "plt.plot(history.history['loss'])\n",
    "plt.plot(history.history['val_loss'])\n",
    "plt.title('model loss')\n",
    "plt.ylabel('loss')\n",
    "plt.xlabel('epoch')\n",
    "plt.legend(['train', 'test'], loc='upper left')\n",
    "plt.show()"
   ]
  },
  {
   "cell_type": "code",
   "execution_count": 12,
   "id": "73b3edef",
   "metadata": {},
   "outputs": [
    {
     "name": "stdout",
     "output_type": "stream",
     "text": [
      "1/1 [==============================] - 0s 41ms/step\n",
      "COVID\n"
     ]
    }
   ],
   "source": [
    "import numpy as np\n",
    "import keras.utils as image\n",
    "\n",
    "test_image = image.load_img('C:/Users/Tommee Ellwyn Saljay/Desktop/Neural Networks/dataset/Train/Covid/000001-7.jpg',target_size=(224,224))\n",
    "test_image = image.img_to_array(test_image)\n",
    "test_image = np.expand_dims(test_image, axis=0)\n",
    "result = classifier.predict(test_image)\n",
    "training_set.class_indices\n",
    "if result[0][0] == 1:\n",
    "    prediction = 'NORMAL'\n",
    "else:\n",
    "    prediction = 'COVID'\n",
    "print(prediction)"
   ]
  },
  {
   "cell_type": "code",
   "execution_count": 14,
   "id": "ed16a937",
   "metadata": {},
   "outputs": [
    {
     "data": {
      "text/plain": [
       "array([[[[ 15.,  15.,  15.],\n",
       "         [ 15.,  15.,  15.],\n",
       "         [ 13.,  13.,  13.],\n",
       "         ...,\n",
       "         [ 12.,  12.,  12.],\n",
       "         [ 13.,  13.,  13.],\n",
       "         [ 13.,  13.,  13.]],\n",
       "\n",
       "        [[ 13.,  13.,  13.],\n",
       "         [ 13.,  13.,  13.],\n",
       "         [ 13.,  13.,  13.],\n",
       "         ...,\n",
       "         [ 12.,  12.,  12.],\n",
       "         [ 13.,  13.,  13.],\n",
       "         [ 13.,  13.,  13.]],\n",
       "\n",
       "        [[ 15.,  15.,  15.],\n",
       "         [ 16.,  16.,  16.],\n",
       "         [ 16.,  16.,  16.],\n",
       "         ...,\n",
       "         [ 11.,  11.,  11.],\n",
       "         [ 13.,  13.,  13.],\n",
       "         [ 12.,  12.,  12.]],\n",
       "\n",
       "        ...,\n",
       "\n",
       "        [[181., 181., 181.],\n",
       "         [184., 184., 184.],\n",
       "         [184., 184., 184.],\n",
       "         ...,\n",
       "         [176., 176., 176.],\n",
       "         [173., 173., 173.],\n",
       "         [170., 170., 170.]],\n",
       "\n",
       "        [[181., 181., 181.],\n",
       "         [184., 184., 184.],\n",
       "         [184., 184., 184.],\n",
       "         ...,\n",
       "         [176., 176., 176.],\n",
       "         [173., 173., 173.],\n",
       "         [170., 170., 170.]],\n",
       "\n",
       "        [[180., 180., 180.],\n",
       "         [184., 184., 184.],\n",
       "         [183., 183., 183.],\n",
       "         ...,\n",
       "         [176., 176., 176.],\n",
       "         [172., 172., 172.],\n",
       "         [172., 172., 172.]]]], dtype=float32)"
      ]
     },
     "execution_count": 14,
     "metadata": {},
     "output_type": "execute_result"
    }
   ],
   "source": [
    "test_image"
   ]
  },
  {
   "cell_type": "code",
   "execution_count": null,
   "id": "a277afe8",
   "metadata": {},
   "outputs": [],
   "source": []
  }
 ],
 "metadata": {
  "kernelspec": {
   "display_name": "Python 3 (ipykernel)",
   "language": "python",
   "name": "python3"
  },
  "language_info": {
   "codemirror_mode": {
    "name": "ipython",
    "version": 3
   },
   "file_extension": ".py",
   "mimetype": "text/x-python",
   "name": "python",
   "nbconvert_exporter": "python",
   "pygments_lexer": "ipython3",
   "version": "3.9.13"
  }
 },
 "nbformat": 4,
 "nbformat_minor": 5
}
